{
 "cells": [
  {
   "cell_type": "code",
   "execution_count": 19,
   "id": "a5816860-1cbc-44a8-ad8c-606700679043",
   "metadata": {},
   "outputs": [],
   "source": [
    "import pandas as pd\n",
    "from openpyxl import Workbook\n",
    "from openpyxl.utils.dataframe import dataframe_to_rows\n",
    "from openpyxl.drawing.image import Image\n",
    "from openpyxl.chart import LineChart, Reference\n"
   ]
  },
  {
   "cell_type": "code",
   "execution_count": 13,
   "id": "dd35149f-8c99-4892-8ef9-662f58e92697",
   "metadata": {},
   "outputs": [],
   "source": [
    "df = pd.read_csv('Customer_Data.csv')"
   ]
  },
  {
   "cell_type": "code",
   "execution_count": 14,
   "id": "4da5c8fd-05d2-417d-8e0a-18617ebdccdd",
   "metadata": {},
   "outputs": [],
   "source": [
    "# Calculate retention rate\n",
    "total_customers = df['customer_id'].nunique()\n",
    "retained_customers = df['retained'].sum()\n",
    "retention_rate = retained_customers / total_customers * 100\n",
    "\n",
    "# Calculate monthly retention rate\n",
    "monthly_retention = df.groupby('month')['retained'].mean() * 100\n",
    "\n",
    "# Calculate average revenue per customer\n",
    "avg_revenue_per_customer = df.groupby('customer_id')['revenue'].mean().mean()\n"
   ]
  },
  {
   "cell_type": "code",
   "execution_count": 16,
   "id": "8a041234-3135-4cfc-a371-d5d9da94b2e7",
   "metadata": {},
   "outputs": [],
   "source": [
    "#Create an Excel workbook and add a worksheet:\n",
    "wb = Workbook()\n",
    "ws = wb.active\n",
    "ws.title = 'Customer Retention Analysis'"
   ]
  },
  {
   "cell_type": "code",
   "execution_count": 17,
   "id": "c1e79105-3aff-4427-81f0-d2905bb15e7e",
   "metadata": {},
   "outputs": [],
   "source": [
    "#Add the retention metrics to the worksheet:\n",
    "ws['A1'] = 'Retention Rate'\n",
    "ws['A2'] = 'Monthly Retention Rate'\n",
    "ws['A3'] = 'Average Revenue per Customer'\n",
    "\n",
    "ws['B1'] = retention_rate\n",
    "for i, rate in enumerate(monthly_retention, start=2):\n",
    "    ws.cell(row=i, column=2, value=rate)\n",
    "ws['B3'] = avg_revenue_per_customer\n"
   ]
  },
  {
   "cell_type": "code",
   "execution_count": 20,
   "id": "f11e6656-9e32-4d4f-86be-714ce2e7bd14",
   "metadata": {},
   "outputs": [],
   "source": [
    "#Create a line chart for monthly retention rates:\n",
    "chart = LineChart()\n",
    "chart.title = 'Monthly Retention Rate'\n",
    "chart.y_axis.title = 'Retention Rate (%)'\n",
    "chart.x_axis.title = 'Month'\n",
    "\n",
    "data = Reference(ws, min_col=2, min_row=2, max_col=2, max_row=len(monthly_retention) + 1)\n",
    "categories = Reference(ws, min_col=1, min_row=3, max_row=len(monthly_retention) + 1)\n",
    "chart.add_data(data, titles_from_data=True)\n",
    "chart.set_categories(categories)\n",
    "\n",
    "ws.add_chart(chart, 'D1')\n"
   ]
  },
  {
   "cell_type": "code",
   "execution_count": 21,
   "id": "8f8464c2-26c5-48e4-b193-f25ddceca5a4",
   "metadata": {},
   "outputs": [],
   "source": [
    "#Save the workbook as an Excel file:\n",
    "wb.save('customer_retention_analysis.xlsx')"
   ]
  },
  {
   "cell_type": "code",
   "execution_count": null,
   "id": "96b0d2c7-0c48-4d17-9458-b2fc84ccfd3f",
   "metadata": {},
   "outputs": [],
   "source": []
  }
 ],
 "metadata": {
  "kernelspec": {
   "display_name": "anaconda-panel-2023.05-py310",
   "language": "python",
   "name": "conda-env-anaconda-panel-2023.05-py310-py"
  },
  "language_info": {
   "codemirror_mode": {
    "name": "ipython",
    "version": 3
   },
   "file_extension": ".py",
   "mimetype": "text/x-python",
   "name": "python",
   "nbconvert_exporter": "python",
   "pygments_lexer": "ipython3",
   "version": "3.11.3"
  }
 },
 "nbformat": 4,
 "nbformat_minor": 5
}

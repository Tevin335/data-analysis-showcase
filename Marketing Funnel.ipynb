{
 "cells": [
  {
   "cell_type": "code",
   "execution_count": null,
   "id": "89a90ccf-3834-4c9a-822c-92017228a9d1",
   "metadata": {},
   "outputs": [],
   "source": [
    "import pandas as pd"
   ]
  },
  {
   "cell_type": "code",
   "execution_count": 5,
   "id": "650cb4ed-b92c-4b43-b1a7-a172828ab08b",
   "metadata": {},
   "outputs": [],
   "source": [
    "from openpyxl import Workbook\n",
    "from openpyxl.utils.dataframe import dataframe_to_rows\n",
    "from openpyxl.drawing.image import Image\n",
    "from openpyxl.chart import BarChart, Reference"
   ]
  },
  {
   "cell_type": "code",
   "execution_count": 7,
   "id": "bbcccdf2-0460-4884-a2d7-8193be425f01",
   "metadata": {},
   "outputs": [
    {
     "name": "stdout",
     "output_type": "stream",
     "text": [
      "Marketing Funnel Dashboard created successfully!\n"
     ]
    }
   ],
   "source": [
    "# Read the marketing funnel data from a CSV file\n",
    "df = pd.read_csv('marketing_funnel.csv')\n",
    "\n",
    "# Calculate conversion rates for each stage of the funnel\n",
    "conversion_rates = df.groupby('Stage')['Converted'].mean().reset_index()\n",
    "conversion_rates['Conversion Rate'] = conversion_rates['Converted'] * 100\n",
    "\n",
    "# Create a new Excel workbook and sheet\n",
    "wb = Workbook()\n",
    "sheet = wb.active\n",
    "\n",
    "# Write the conversion rates to the Excel sheet\n",
    "sheet.title = 'Conversion Rates'\n",
    "for row in dataframe_to_rows(conversion_rates, index=False, header=True):\n",
    "    sheet.append(row)\n",
    "\n",
    "# Create a bar chart for the conversion rates\n",
    "chart = BarChart()\n",
    "data = Reference(sheet, min_col=2, min_row=1, max_col=3, max_row=len(conversion_rates)+1)\n",
    "categories = Reference(sheet, min_col=1, min_row=2, max_row=len(conversion_rates)+1)\n",
    "chart.add_data(data, titles_from_data=True)\n",
    "chart.set_categories(categories)\n",
    "chart.title = \"Conversion Rates by Stage\"\n",
    "chart.x_axis.title = \"Stage\"\n",
    "chart.y_axis.title = \"Conversion Rate (%)\"\n",
    "\n",
    "# Add the chart to the Excel sheet\n",
    "sheet.add_chart(chart, \"E2\")\n",
    "\n",
    "# Save the Excel file\n",
    "wb.save(\"marketing_funnel_dashboard.xlsx\")\n",
    "\n",
    "# Print a message indicating the dashboard has been created\n",
    "print(\"Marketing Funnel Dashboard created successfully!\")"
   ]
  },
  {
   "cell_type": "code",
   "execution_count": null,
   "id": "de428fdd-1013-4652-be5f-e908bfb88034",
   "metadata": {},
   "outputs": [],
   "source": []
  }
 ],
 "metadata": {
  "kernelspec": {
   "display_name": "anaconda-panel-2023.05-py310",
   "language": "python",
   "name": "conda-env-anaconda-panel-2023.05-py310-py"
  },
  "language_info": {
   "codemirror_mode": {
    "name": "ipython",
    "version": 3
   },
   "file_extension": ".py",
   "mimetype": "text/x-python",
   "name": "python",
   "nbconvert_exporter": "python",
   "pygments_lexer": "ipython3",
   "version": "3.11.3"
  }
 },
 "nbformat": 4,
 "nbformat_minor": 5
}

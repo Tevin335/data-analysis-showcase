{
 "cells": [
  {
   "cell_type": "code",
   "execution_count": 2,
   "id": "48d25bb1-d0ea-4707-877c-14190cc3fc68",
   "metadata": {},
   "outputs": [],
   "source": [
    "import pandas as pd"
   ]
  },
  {
   "cell_type": "code",
   "execution_count": 4,
   "id": "4de095e2-6b2b-4aa5-aacc-ccb567bdb29b",
   "metadata": {},
   "outputs": [],
   "source": [
    "from openpyxl import Workbook\n",
    "from openpyxl.chart import BarChart, Reference\n",
    "from openpyxl.utils.dataframe import dataframe_to_rows\n",
    "\n",
    "# Sample data\n",
    "data = {\n",
    "    'Country': ['Kenya', 'Nigeria', 'South Africa', 'Ghana', 'Tanzania'],\n",
    "    'Licensing': [True, True, False, True, False],\n",
    "    'Quality_Standards': ['High', 'Medium', 'High', 'Medium', 'Low'],\n",
    "    'Reimbursement': ['Yes', 'No', 'Yes', 'Yes', 'No'],\n",
    "    'Pharmaceuticals': ['Strict', 'Moderate', 'Strict', 'Moderate', 'Lenient'],\n",
    "    'Medical_Devices': ['Regulated', 'Regulated', 'Regulated', 'Unregulated', 'Regulated']\n",
    "}\n",
    "\n",
    "# Convert data to a DataFrame\n",
    "df = pd.DataFrame(data)\n",
    "\n",
    "# Create a new Excel workbook\n",
    "workbook = Workbook()\n",
    "sheet = workbook.active\n",
    "\n",
    "# Write the data to the Excel sheet\n",
    "for r in dataframe_to_rows(df, index=False, header=True):\n",
    "    sheet.append(r)\n",
    "\n",
    "# Create a bar chart for licensing\n",
    "chart = BarChart()\n",
    "values = Reference(sheet, min_col=2, max_col=2, min_row=2, max_row=df.shape[0] + 1)\n",
    "labels = Reference(sheet, min_col=1, min_row=2, max_row=df.shape[0] + 1)\n",
    "chart.add_data(values, titles_from_data=True)\n",
    "chart.set_categories(labels)\n",
    "chart.title = \"Licensing Distribution\"\n",
    "chart.x_axis.title = \"Country\"\n",
    "chart.y_axis.title = \"Count\"\n",
    "sheet.add_chart(chart, \"F2\")\n",
    "\n",
    "# Create a bar chart for quality standards\n",
    "chart = BarChart()\n",
    "values = Reference(sheet, min_col=3, max_col=3, min_row=2, max_row=df.shape[0] + 1)\n",
    "labels = Reference(sheet, min_col=1, min_row=2, max_row=df.shape[0] + 1)\n",
    "chart.add_data(values, titles_from_data=True)\n",
    "chart.set_categories(labels)\n",
    "chart.title = \"Quality Standards Distribution\"\n",
    "chart.x_axis.title = \"Country\"\n",
    "chart.y_axis.title = \"Count\"\n",
    "sheet.add_chart(chart, \"F18\")\n",
    "\n",
    "# Create a bar chart for reimbursement\n",
    "chart = BarChart()\n",
    "values = Reference(sheet, min_col=4, max_col=4, min_row=2, max_row=df.shape[0] + 1)\n",
    "labels = Reference(sheet, min_col=1, min_row=2, max_row=df.shape[0] + 1)\n",
    "chart.add_data(values, titles_from_data=True)\n",
    "chart.set_categories(labels)\n",
    "chart.title = \"Reimbursement Distribution\"\n",
    "chart.x_axis.title = \"Country\"\n",
    "chart.y_axis.title = \"Count\"\n",
    "sheet.add_chart(chart, \"F34\")\n",
    "\n",
    "# Save the workbook as an Excel file\n",
    "workbook.save(\"healthcare_policies_dashboard.xlsx\")\n"
   ]
  },
  {
   "cell_type": "code",
   "execution_count": null,
   "id": "471f7961-3b01-4277-bb03-0f514a46dcf9",
   "metadata": {},
   "outputs": [],
   "source": []
  }
 ],
 "metadata": {
  "kernelspec": {
   "display_name": "anaconda-panel-2023.05-py310",
   "language": "python",
   "name": "conda-env-anaconda-panel-2023.05-py310-py"
  },
  "language_info": {
   "codemirror_mode": {
    "name": "ipython",
    "version": 3
   },
   "file_extension": ".py",
   "mimetype": "text/x-python",
   "name": "python",
   "nbconvert_exporter": "python",
   "pygments_lexer": "ipython3",
   "version": "3.11.3"
  }
 },
 "nbformat": 4,
 "nbformat_minor": 5
}
